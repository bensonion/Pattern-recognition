{
 "cells": [
  {
   "cell_type": "code",
   "execution_count": 1,
   "id": "85a7118f-0d46-4112-b085-070d6124ca93",
   "metadata": {},
   "outputs": [
    {
     "name": "stdout",
     "output_type": "stream",
     "text": [
      "a: 0.09090909090909091\n",
      "b: 0.2857142857142857\n",
      "a+b: 0.37662337662337664\n",
      "a+b-b: 0.09090909090909094\n"
     ]
    }
   ],
   "source": [
    "# numerical computation\n",
    "# ex01\n",
    "a= 1/11\n",
    "b= 2/7\n",
    "print(\"a:\",a)\n",
    "print(\"b:\",b)\n",
    "print(\"a+b:\",a+b)\n",
    "print(\"a+b-b:\",a+b-b)"
   ]
  },
  {
   "cell_type": "code",
   "execution_count": 2,
   "id": "7b75a3ff-ce6e-4f35-9dd5-17721ebfa277",
   "metadata": {},
   "outputs": [
    {
     "data": {
      "text/plain": [
       "False"
      ]
     },
     "execution_count": 2,
     "metadata": {},
     "output_type": "execute_result"
    }
   ],
   "source": [
    "(a+b-b) == a\n"
   ]
  },
  {
   "cell_type": "code",
   "execution_count": 3,
   "id": "532ae04e-4c6b-48e7-9ad6-29d8a9a8d3f6",
   "metadata": {},
   "outputs": [
    {
     "data": {
      "text/plain": [
       "True"
      ]
     },
     "execution_count": 3,
     "metadata": {},
     "output_type": "execute_result"
    }
   ],
   "source": [
    "import math\n",
    "math.isclose((a+b-b), a)"
   ]
  },
  {
   "cell_type": "code",
   "execution_count": 4,
   "id": "33a0a6ec-4f05-42de-9130-69cc1abb2498",
   "metadata": {},
   "outputs": [
    {
     "data": {
      "text/plain": [
       "(0.8451542547285166, 0.8451542547285166, True)"
      ]
     },
     "execution_count": 4,
     "metadata": {},
     "output_type": "execute_result"
    }
   ],
   "source": [
    "# ex02\n",
    "a= 5\n",
    "b= 7\n",
    "c= (a**.5) / (b**.5)\n",
    "d= (a/b)**.5\n",
    "c, d, c==d"
   ]
  },
  {
   "cell_type": "code",
   "execution_count": 5,
   "id": "3df15cde-3a9f-4d3c-a856-78a72399b0f1",
   "metadata": {},
   "outputs": [
    {
     "data": {
      "text/plain": [
       "0.0"
      ]
     },
     "execution_count": 5,
     "metadata": {},
     "output_type": "execute_result"
    }
   ],
   "source": [
    "# 誤差之百分比\n",
    "error= (c-d)/c\n",
    "error"
   ]
  },
  {
   "cell_type": "code",
   "execution_count": 6,
   "id": "09d52c44-ee5c-4e0f-a682-f08868f20ee9",
   "metadata": {},
   "outputs": [
    {
     "data": {
      "text/plain": [
       "(2, 3)"
      ]
     },
     "execution_count": 6,
     "metadata": {},
     "output_type": "execute_result"
    }
   ],
   "source": [
    "# 但有沒有改善空間，有！\n",
    "# 增加電腦的位元數 16bit --> 32 bit -->64 bit -->128 bit ->???\n",
    "# 還有沒有其他可能性？ \n",
    "# ===> Symbolic Computation\n",
    "\n",
    "import sympy\n",
    "a= sympy.Integer(2)\n",
    "b= sympy.Integer(3)\n",
    "a, b"
   ]
  },
  {
   "cell_type": "code",
   "execution_count": 7,
   "id": "cac5acea-c6cd-4c31-85ef-43b42740f705",
   "metadata": {},
   "outputs": [
    {
     "data": {
      "text/latex": [
       "$\\displaystyle \\frac{\\sqrt{6}}{3}$"
      ],
      "text/plain": [
       "sqrt(6)/3"
      ]
     },
     "execution_count": 7,
     "metadata": {},
     "output_type": "execute_result"
    }
   ],
   "source": [
    "c= sympy.sqrt(a)/sympy.sqrt(b)\n",
    "c"
   ]
  },
  {
   "cell_type": "code",
   "execution_count": 8,
   "id": "ab33a532-2db5-47a3-8f96-734dcf1ff7b3",
   "metadata": {},
   "outputs": [
    {
     "data": {
      "text/plain": [
       "False"
      ]
     },
     "execution_count": 8,
     "metadata": {},
     "output_type": "execute_result"
    }
   ],
   "source": [
    "c==d"
   ]
  },
  {
   "cell_type": "code",
   "execution_count": 9,
   "id": "fe6ce9df-8438-40f1-8cfe-bcf7bcb83278",
   "metadata": {},
   "outputs": [
    {
     "data": {
      "text/latex": [
       "$\\displaystyle x^{3} + x + 1$"
      ],
      "text/plain": [
       "x**3 + x + 1"
      ]
     },
     "execution_count": 9,
     "metadata": {},
     "output_type": "execute_result"
    }
   ],
   "source": [
    "x= sympy.symbols('x')\n",
    "x\n",
    "f= 1 + x + x**3# 多項式 表示式 (expression)\n",
    "f"
   ]
  },
  {
   "cell_type": "code",
   "execution_count": 10,
   "id": "56811ee2-642a-42d7-bf08-8994ae0d03c8",
   "metadata": {},
   "outputs": [
    {
     "data": {
      "text/latex": [
       "$\\displaystyle 2 x^{3} + 2 x + 2$"
      ],
      "text/plain": [
       "2*x**3 + 2*x + 2"
      ]
     },
     "execution_count": 10,
     "metadata": {},
     "output_type": "execute_result"
    }
   ],
   "source": [
    "f+f  # 表示式 (expression) 的相加"
   ]
  },
  {
   "cell_type": "code",
   "execution_count": 11,
   "id": "c9f2b68b-9acb-4818-bd9b-96985e9b0f56",
   "metadata": {},
   "outputs": [
    {
     "data": {
      "text/latex": [
       "$\\displaystyle \\left(x^{3} + x + 1\\right)^{2}$"
      ],
      "text/plain": [
       "(x**3 + x + 1)**2"
      ]
     },
     "execution_count": 11,
     "metadata": {},
     "output_type": "execute_result"
    }
   ],
   "source": [
    "f*f # 表示式 (expression) 的相乘"
   ]
  },
  {
   "cell_type": "code",
   "execution_count": 12,
   "id": "68d25368-360d-4cfb-b9c3-b985c781a950",
   "metadata": {},
   "outputs": [
    {
     "data": {
      "text/latex": [
       "$\\displaystyle \\left(x^{3} + x + 1\\right)^{3}$"
      ],
      "text/plain": [
       "(x**3 + x + 1)**3"
      ]
     },
     "execution_count": 12,
     "metadata": {},
     "output_type": "execute_result"
    }
   ],
   "source": [
    "f**3  # 表示式 (expression) 的乘冪"
   ]
  },
  {
   "cell_type": "code",
   "execution_count": 13,
   "id": "7f49af1d-85c0-4ce1-8fca-1446af9662bc",
   "metadata": {},
   "outputs": [
    {
     "data": {
      "text/latex": [
       "$\\displaystyle x^{9} + 3 x^{7} + 3 x^{6} + 3 x^{5} + 6 x^{4} + 4 x^{3} + 3 x^{2} + 3 x + 1$"
      ],
      "text/plain": [
       "x**9 + 3*x**7 + 3*x**6 + 3*x**5 + 6*x**4 + 4*x**3 + 3*x**2 + 3*x + 1"
      ]
     },
     "execution_count": 13,
     "metadata": {},
     "output_type": "execute_result"
    }
   ],
   "source": [
    "(f**3).expand() # 表示式 (expression) 的展開"
   ]
  },
  {
   "cell_type": "code",
   "execution_count": 14,
   "id": "2752a6be-5d53-4f4c-bbe5-7855d5d66866",
   "metadata": {},
   "outputs": [
    {
     "data": {
      "text/latex": [
       "$\\displaystyle \\left(x^{3} + x + 1\\right)^{3}$"
      ],
      "text/plain": [
       "(x**3 + x + 1)**3"
      ]
     },
     "execution_count": 14,
     "metadata": {},
     "output_type": "execute_result"
    }
   ],
   "source": [
    "g= (f**3).expand() # 表示式 (expression) 的因式分解\n",
    "g.factor()"
   ]
  },
  {
   "cell_type": "code",
   "execution_count": 15,
   "id": "4182e51f-12aa-4bb8-9bc8-fd745f825f08",
   "metadata": {},
   "outputs": [
    {
     "data": {
      "text/latex": [
       "$\\displaystyle 3 x^{2} + 1$"
      ],
      "text/plain": [
       "3*x**2 + 1"
      ]
     },
     "execution_count": 15,
     "metadata": {},
     "output_type": "execute_result"
    }
   ],
   "source": [
    "f.diff(x) # 表示式 (expression) 的微分"
   ]
  },
  {
   "cell_type": "code",
   "execution_count": 16,
   "id": "2bc50f00-9aef-4bb3-82c0-a9ce9b4effb3",
   "metadata": {},
   "outputs": [
    {
     "data": {
      "text/latex": [
       "$\\displaystyle \\frac{x^{4}}{4} + \\frac{x^{2}}{2} + x$"
      ],
      "text/plain": [
       "x**4/4 + x**2/2 + x"
      ]
     },
     "execution_count": 16,
     "metadata": {},
     "output_type": "execute_result"
    }
   ],
   "source": [
    "f.integrate(x) # 表示式 (expression) 的積分"
   ]
  },
  {
   "cell_type": "code",
   "execution_count": 17,
   "id": "b97ef4da-1370-4827-abad-47ed1f60b17a",
   "metadata": {},
   "outputs": [
    {
     "data": {
      "text/latex": [
       "$\\displaystyle 2560$"
      ],
      "text/plain": [
       "2560"
      ]
     },
     "execution_count": 17,
     "metadata": {},
     "output_type": "execute_result"
    }
   ],
   "source": [
    "f.integrate((x,0,10)) # 表示式 (expression) 的定積分"
   ]
  },
  {
   "cell_type": "code",
   "execution_count": 18,
   "id": "dc4f2c05-ecc2-471f-bc05-aff6b0757505",
   "metadata": {},
   "outputs": [
    {
     "data": {
      "text/latex": [
       "$\\displaystyle 1011$"
      ],
      "text/plain": [
       "1011"
      ]
     },
     "execution_count": 18,
     "metadata": {},
     "output_type": "execute_result"
    }
   ],
   "source": [
    "f.subs(x,10)  # 表示式 (expression) 的變數替換 (代入)"
   ]
  },
  {
   "cell_type": "code",
   "execution_count": 19,
   "id": "18f793a0-b8d5-4d40-aa66-654c84bd26f8",
   "metadata": {},
   "outputs": [
    {
     "data": {
      "text/latex": [
       "$\\displaystyle 2560$"
      ],
      "text/plain": [
       "2560"
      ]
     },
     "execution_count": 19,
     "metadata": {},
     "output_type": "execute_result"
    }
   ],
   "source": [
    "# 運用 變數替換 (代入)，來驗算定積分\n",
    "F= f.integrate(x)\n",
    "F.subs(x,10) - F.subs(x,0)"
   ]
  },
  {
   "cell_type": "code",
   "execution_count": 20,
   "id": "78d9083d-b0b3-4d7a-8502-eaa7a44adf56",
   "metadata": {},
   "outputs": [
    {
     "data": {
      "text/plain": [
       "True"
      ]
     },
     "execution_count": 20,
     "metadata": {},
     "output_type": "execute_result"
    }
   ],
   "source": [
    "F.subs(x,10) - F.subs(x,0) == f.integrate((x,0,10))"
   ]
  },
  {
   "cell_type": "code",
   "execution_count": 21,
   "id": "9bdb94a4-2e42-46fa-adbc-9787e2dbea65",
   "metadata": {},
   "outputs": [
    {
     "data": {
      "text/latex": [
       "$\\displaystyle 1011$"
      ],
      "text/plain": [
       "1011"
      ]
     },
     "execution_count": 21,
     "metadata": {},
     "output_type": "execute_result"
    }
   ],
   "source": [
    "# 極限\n",
    "sympy.limit(f, x, 10)"
   ]
  },
  {
   "cell_type": "code",
   "execution_count": null,
   "id": "5c67737e-2f86-4c6f-bf8d-d7e2a2bcdce2",
   "metadata": {},
   "outputs": [],
   "source": []
  }
 ],
 "metadata": {
  "kernelspec": {
   "display_name": "Python 3",
   "language": "python",
   "name": "python3"
  },
  "language_info": {
   "codemirror_mode": {
    "name": "ipython",
    "version": 3
   },
   "file_extension": ".py",
   "mimetype": "text/x-python",
   "name": "python",
   "nbconvert_exporter": "python",
   "pygments_lexer": "ipython3",
   "version": "3.8.8"
  }
 },
 "nbformat": 4,
 "nbformat_minor": 5
}

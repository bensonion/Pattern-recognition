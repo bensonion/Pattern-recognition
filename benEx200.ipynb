{
 "cells": [
  {
   "cell_type": "code",
   "execution_count": 8,
   "id": "cdf28812-7482-44e6-b1ab-f33d621e7ad2",
   "metadata": {},
   "outputs": [],
   "source": [
    "import numpy as np"
   ]
  },
  {
   "cell_type": "markdown",
   "id": "19076020-a1fa-4296-b361-827ea744dbfa",
   "metadata": {},
   "source": [
    "3 variables system of linear equations¶"
   ]
  },
  {
   "cell_type": "code",
   "execution_count": 134,
   "id": "510ed126-9496-4d3c-9199-06bedf5efc7a",
   "metadata": {},
   "outputs": [
    {
     "name": "stdout",
     "output_type": "stream",
     "text": [
      "\n",
      "n= 3,  \n",
      "A= \n",
      "[[ 3  6 -9]\n",
      " [-6 -6 -2]\n",
      " [ 0 -5 -3]] \n",
      "b= \n",
      "[[-4]\n",
      " [ 2]\n",
      " [ 3]] \n",
      "x= \n",
      "[[ 0.29378531]\n",
      " [-0.66101695]\n",
      " [ 0.10169492]] \n",
      "\n"
     ]
    }
   ],
   "source": [
    "n= 3 #設定矩陣大小\n",
    "np.random.seed(0) #隨機變數 \n",
    "A= np.random.randint(-9,9,size=(n,n)) #random.randint(最小值,最大值,矩陣尺寸(行,列))\n",
    "np.random.seed(1) \n",
    "b= np.random.randint(-9,9,size=(n,1)) \n",
    "x= np.linalg.solve(A, b) \n",
    "\n",
    "print( \n",
    "f'''\n",
    "n= {n},  \n",
    "A= \n",
    "{A} \n",
    "b= \n",
    "{b} \n",
    "x= \n",
    "{x} \n",
    "''') "
   ]
  },
  {
   "cell_type": "markdown",
   "id": "6a6ba209-b11e-4b4d-91de-5dc017860b2a",
   "metadata": {},
   "source": [
    "驗證"
   ]
  },
  {
   "cell_type": "code",
   "execution_count": 135,
   "id": "206865bd-72b7-4ff1-b208-97b3a68c4e9c",
   "metadata": {},
   "outputs": [
    {
     "name": "stdout",
     "output_type": "stream",
     "text": [
      "[[-4.]\n",
      " [ 2.]\n",
      " [ 3.]]\n"
     ]
    }
   ],
   "source": [
    "print(A.dot(x))"
   ]
  },
  {
   "cell_type": "markdown",
   "id": "b565c1a8-629a-48e9-ac6e-d2e7257baa7a",
   "metadata": {},
   "source": [
    "5 variables system of linear equations¶"
   ]
  },
  {
   "cell_type": "code",
   "execution_count": 144,
   "id": "68e5c1bd-d5c6-4e82-8f70-c251ca73c41d",
   "metadata": {},
   "outputs": [
    {
     "name": "stdout",
     "output_type": "stream",
     "text": [
      "\n",
      "n= 5,  \n",
      "A= \n",
      "[[ 3  6 -9 -6 -6]\n",
      " [-2  0 -5 -3  3]\n",
      " [-8 -3 -2  5  8]\n",
      " [-4  4 -1  0  7]\n",
      " [-4  6  6 -9 -6]] \n",
      "b= \n",
      "[[-4]\n",
      " [ 2]\n",
      " [ 3]\n",
      " [-1]\n",
      " [ 0]] \n",
      "x= \n",
      "[[-0.23675578]\n",
      " [-0.74933027]\n",
      " [ 0.06470395]\n",
      " [-0.45738341]\n",
      " [ 0.15928599]] \n",
      "\n"
     ]
    }
   ],
   "source": [
    "n= 5 \n",
    "np.random.seed(0) \n",
    "A= np.random.randint(-9,9,size=(n,n)) \n",
    "np.random.seed(1) \n",
    "b= np.random.randint(-9,9,size=(n,1)) \n",
    "x= np.linalg.solve(A, b) \n",
    "\n",
    "print( \n",
    "f'''\n",
    "n= {n},  \n",
    "A= \n",
    "{A} \n",
    "b= \n",
    "{b} \n",
    "x= \n",
    "{x} \n",
    "''') "
   ]
  },
  {
   "cell_type": "markdown",
   "id": "2e0468a8-2abb-4969-ab45-ccd52389f9a4",
   "metadata": {},
   "source": [
    "驗證"
   ]
  },
  {
   "cell_type": "code",
   "execution_count": 138,
   "id": "7cb79706-eadc-477f-8b7b-9ebae7ecedc8",
   "metadata": {},
   "outputs": [
    {
     "name": "stdout",
     "output_type": "stream",
     "text": [
      "[[-4.00000000e+00]\n",
      " [ 2.00000000e+00]\n",
      " [ 3.00000000e+00]\n",
      " [-1.00000000e+00]\n",
      " [-3.55271368e-15]\n",
      " [ 2.00000000e+00]\n",
      " [-4.00000000e+00]\n",
      " [ 6.00000000e+00]\n",
      " [-9.00000000e+00]\n",
      " [ 7.00000000e+00]]\n"
     ]
    }
   ],
   "source": [
    "print(A.dot(x))"
   ]
  },
  {
   "cell_type": "markdown",
   "id": "62dff1b2-bab3-44b6-90ea-ce03c34b3981",
   "metadata": {},
   "source": [
    "10 variables system of linear equations¶"
   ]
  },
  {
   "cell_type": "code",
   "execution_count": 137,
   "id": "19407550-d220-4bd5-95a1-ee3c7974c247",
   "metadata": {},
   "outputs": [
    {
     "name": "stdout",
     "output_type": "stream",
     "text": [
      "\n",
      "n= 10,  \n",
      "A= \n",
      "[[ 3  6 -9 -6 -6 -2  0 -5 -3  3]\n",
      " [-8 -3 -2  5  8 -4  4 -1  0  7]\n",
      " [-4  6  6 -9 -6  8  5 -2 -9 -8]\n",
      " [ 0 -9  1 -6  2 -7 -9 -9 -5 -4]\n",
      " [-3 -1  8  6 -5  0  1 -8 -8 -2]\n",
      " [ 0 -6 -3  2  5 -9  5 -6  3  1]\n",
      " [ 2 -5 -3 -5  6 -6  3 -5 -1  5]\n",
      " [ 6 -6  6  4  7  8 -4  0 -6 -9]\n",
      " [-4 -9  8 -5 -7  7 -6 -7  1  4]\n",
      " [ 7 -2  0 -9  1  2 -7 -7 -6 -6]] \n",
      "b= \n",
      "[[-4]\n",
      " [ 2]\n",
      " [ 3]\n",
      " [-1]\n",
      " [ 0]\n",
      " [ 2]\n",
      " [-4]\n",
      " [ 6]\n",
      " [-9]\n",
      " [ 7]] \n",
      "x= \n",
      "[[-0.31672593]\n",
      " [ 2.02924179]\n",
      " [ 0.61111213]\n",
      " [ 0.1590312 ]\n",
      " [ 1.67875253]\n",
      " [ 0.33624215]\n",
      " [-0.57482548]\n",
      " [-1.66325201]\n",
      " [ 1.33296729]\n",
      " [-0.78114507]] \n",
      "\n"
     ]
    }
   ],
   "source": [
    "n= 10 \n",
    "np.random.seed(0) \n",
    "A= np.random.randint(-9,9,size=(n,n)) \n",
    "np.random.seed(1) \n",
    "b= np.random.randint(-9,9,size=(n,1)) \n",
    "x= np.linalg.solve(A, b) \n",
    "\n",
    "print( \n",
    "f'''\n",
    "n= {n},  \n",
    "A= \n",
    "{A} \n",
    "b= \n",
    "{b} \n",
    "x= \n",
    "{x} \n",
    "''') "
   ]
  },
  {
   "cell_type": "markdown",
   "id": "96c5ff8e-b8f6-4d62-95f3-161c7cadc8f1",
   "metadata": {},
   "source": [
    "驗證"
   ]
  },
  {
   "cell_type": "code",
   "execution_count": 139,
   "id": "89757dc0-49ee-4b13-a5ca-274c3d5726e5",
   "metadata": {},
   "outputs": [
    {
     "name": "stdout",
     "output_type": "stream",
     "text": [
      "[[-4.00000000e+00]\n",
      " [ 2.00000000e+00]\n",
      " [ 3.00000000e+00]\n",
      " [-1.00000000e+00]\n",
      " [-3.55271368e-15]\n",
      " [ 2.00000000e+00]\n",
      " [-4.00000000e+00]\n",
      " [ 6.00000000e+00]\n",
      " [-9.00000000e+00]\n",
      " [ 7.00000000e+00]]\n"
     ]
    }
   ],
   "source": [
    "print(A.dot(x))"
   ]
  },
  {
   "cell_type": "code",
   "execution_count": null,
   "id": "6c83677c-5885-43c2-b3f8-af58dd283bae",
   "metadata": {},
   "outputs": [],
   "source": []
  }
 ],
 "metadata": {
  "kernelspec": {
   "display_name": "Python 3",
   "language": "python",
   "name": "python3"
  },
  "language_info": {
   "codemirror_mode": {
    "name": "ipython",
    "version": 3
   },
   "file_extension": ".py",
   "mimetype": "text/x-python",
   "name": "python",
   "nbconvert_exporter": "python",
   "pygments_lexer": "ipython3",
   "version": "3.8.8"
  }
 },
 "nbformat": 4,
 "nbformat_minor": 5
}

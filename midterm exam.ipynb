{
 "cells": [
  {
   "cell_type": "markdown",
   "id": "2f67e096-1b17-4443-a9fe-1c4ad7e85037",
   "metadata": {},
   "source": [
    "[1] 01"
   ]
  },
  {
   "cell_type": "code",
   "execution_count": 31,
   "id": "de9c1304-f7ca-49d1-ad04-65c9a31602b5",
   "metadata": {},
   "outputs": [
    {
     "data": {
      "text/latex": [
       "$\\displaystyle \\frac{N^{11}}{11}$"
      ],
      "text/plain": [
       "N**11/11"
      ]
     },
     "metadata": {},
     "output_type": "display_data"
    },
    {
     "data": {
      "text/latex": [
       "$\\displaystyle \\frac{N^{11}}{11}$"
      ],
      "text/plain": [
       "N**11/11"
      ]
     },
     "metadata": {},
     "output_type": "display_data"
    }
   ],
   "source": [
    "import sympy as sm\n",
    "x, N= sm.symbols('x, N') \n",
    "f= sm.integrate( (x**10), (x, 0, N)) \n",
    "    \n",
    "a= f.doit() \n",
    "display(f) \n",
    "display(a)"
   ]
  },
  {
   "cell_type": "markdown",
   "id": "69d0df06-75e4-4ef6-8bc2-d0209f61ae6f",
   "metadata": {},
   "source": [
    "02"
   ]
  },
  {
   "cell_type": "code",
   "execution_count": 7,
   "id": "6e6c6d10-d130-4a3d-9020-dcf44ef0f947",
   "metadata": {},
   "outputs": [
    {
     "data": {
      "text/latex": [
       "$\\displaystyle \\sum_{x=0}^{N} x^{10}$"
      ],
      "text/plain": [
       "Sum(x**10, (x, 0, N))"
      ]
     },
     "metadata": {},
     "output_type": "display_data"
    },
    {
     "data": {
      "text/latex": [
       "$\\displaystyle \\frac{N^{11}}{11} + \\frac{N^{10}}{2} + \\frac{5 N^{9}}{6} - N^{7} + N^{5} - \\frac{N^{3}}{2} + \\frac{5 N}{66}$"
      ],
      "text/plain": [
       "N**11/11 + N**10/2 + 5*N**9/6 - N**7 + N**5 - N**3/2 + 5*N/66"
      ]
     },
     "metadata": {},
     "output_type": "display_data"
    }
   ],
   "source": [
    "import sympy as sm\n",
    "x, N= sm.symbols('x, N') \n",
    "\n",
    "f= sm.Sum( x**10, (x, 0, N)) \n",
    "    \n",
    "a= f.doit() \n",
    "display(f) \n",
    "display(a)"
   ]
  },
  {
   "cell_type": "markdown",
   "id": "4080222f-9e3e-4049-a597-caef235ae8c5",
   "metadata": {},
   "source": [
    "03"
   ]
  },
  {
   "cell_type": "code",
   "execution_count": 8,
   "id": "e6e920f6-697f-457d-9826-37e1aefcd394",
   "metadata": {},
   "outputs": [
    {
     "data": {
      "text/latex": [
       "$\\displaystyle \\sum_{x=1}^{N} \\left(x - 1\\right)^{10}$"
      ],
      "text/plain": [
       "Sum((x - 1)**10, (x, 1, N))"
      ]
     },
     "metadata": {},
     "output_type": "display_data"
    },
    {
     "data": {
      "text/latex": [
       "$\\displaystyle \\frac{N^{11}}{11} - \\frac{N^{10}}{2} + \\frac{5 N^{9}}{6} - N^{7} + N^{5} - \\frac{N^{3}}{2} + \\frac{5 N}{66}$"
      ],
      "text/plain": [
       "N**11/11 - N**10/2 + 5*N**9/6 - N**7 + N**5 - N**3/2 + 5*N/66"
      ]
     },
     "metadata": {},
     "output_type": "display_data"
    }
   ],
   "source": [
    "import sympy as sm\n",
    "x, N= sm.symbols('x, N') \n",
    "\n",
    "f= sm.Sum( (x-1)**10, (x, 1, N)) \n",
    "    \n",
    "a= f.doit() \n",
    "display(f) \n",
    "display(a)"
   ]
  },
  {
   "cell_type": "markdown",
   "id": "8c7836be-9dcc-4c82-81f5-805b4c98caa3",
   "metadata": {},
   "source": [
    "04"
   ]
  },
  {
   "cell_type": "code",
   "execution_count": 32,
   "id": "102d8753-ee5d-4fe5-8b90-f3ec58fd3eb2",
   "metadata": {},
   "outputs": [
    {
     "data": {
      "text/latex": [
       "$\\displaystyle 3628800$"
      ],
      "text/plain": [
       "3628800"
      ]
     },
     "metadata": {},
     "output_type": "display_data"
    }
   ],
   "source": [
    "import sympy as sm\n",
    "x, N= sm.symbols('x, N') \n",
    "N=float('inf')\n",
    "f= sm.integrate( (x**10)*exp(-x), (x, 0, N)) \n",
    "     \n",
    "display(f) "
   ]
  },
  {
   "cell_type": "markdown",
   "id": "4c392bd5-f47e-45cf-9311-3d25f0849b6b",
   "metadata": {},
   "source": [
    "05"
   ]
  },
  {
   "cell_type": "code",
   "execution_count": 60,
   "id": "49d68b6e-01cc-4e9e-95b4-08e6a7a50e05",
   "metadata": {},
   "outputs": [
    {
     "data": {
      "text/latex": [
       "$\\displaystyle e^{- \\left(x - 1\\right)^{2} - \\left(y + 1\\right)^{2}}$"
      ],
      "text/plain": [
       "exp(-(x - 1)**2 - (y + 1)**2)"
      ]
     },
     "metadata": {},
     "output_type": "display_data"
    },
    {
     "data": {
      "text/latex": [
       "$\\displaystyle \\left(2 - 2 x\\right) e^{- \\left(x - 1\\right)^{2} - \\left(y + 1\\right)^{2}}$"
      ],
      "text/plain": [
       "(2 - 2*x)*exp(-(x - 1)**2 - (y + 1)**2)"
      ]
     },
     "metadata": {},
     "output_type": "display_data"
    },
    {
     "data": {
      "text/latex": [
       "$\\displaystyle \\left(- 2 y - 2\\right) e^{- \\left(x - 1\\right)^{2} - \\left(y + 1\\right)^{2}}$"
      ],
      "text/plain": [
       "(-2*y - 2)*exp(-(x - 1)**2 - (y + 1)**2)"
      ]
     },
     "metadata": {},
     "output_type": "display_data"
    },
    {
     "data": {
      "text/latex": [
       "$\\displaystyle 4 \\left(x - 1\\right) \\left(y + 1\\right) e^{- \\left(x - 1\\right)^{2} - \\left(y + 1\\right)^{2}}$"
      ],
      "text/plain": [
       "4*(x - 1)*(y + 1)*exp(-(x - 1)**2 - (y + 1)**2)"
      ]
     },
     "metadata": {},
     "output_type": "display_data"
    }
   ],
   "source": [
    "import sympy as sm\n",
    "x,y= sm.symbols('x,y') \n",
    "f = exp(-(((x-1)**2)+((y+1)**2)))\n",
    "a = sm.diff(f,x)\n",
    "b = sm.diff(f,y)\n",
    "c = sm.diff(f,x,y)\n",
    "display(f)\n",
    "display(a) \n",
    "display(b) \n",
    "display(c) "
   ]
  },
  {
   "cell_type": "markdown",
   "id": "ffa879ad-55ca-4f95-a445-edbebcdc137b",
   "metadata": {},
   "source": [
    "06"
   ]
  },
  {
   "cell_type": "code",
   "execution_count": 84,
   "id": "9efd055f-47da-4a55-bab0-b9b8f637c215",
   "metadata": {},
   "outputs": [
    {
     "data": {
      "text/plain": [
       "[{x: 1, y: -1}]"
      ]
     },
     "execution_count": 84,
     "metadata": {},
     "output_type": "execute_result"
    }
   ],
   "source": [
    "import sympy as sm\n",
    "x,y= sm.symbols('x,y')\n",
    "f=exp(-(((x-1)**2)+((y+1)**2)))\n",
    "fx= sm.diff(f,x)\n",
    "fy= sm.diff(f,y)\n",
    "a= sm.Eq(fx, 0) \n",
    "b= sm.Eq(fy, 0) \n",
    "sm.solve([a, b],x,y,  \n",
    "         dict=True,  \n",
    "        )"
   ]
  },
  {
   "cell_type": "markdown",
   "id": "80e9a879-8d71-446c-86a9-54a78ba2ce13",
   "metadata": {},
   "source": [
    "07"
   ]
  },
  {
   "cell_type": "code",
   "execution_count": 88,
   "id": "7cd91767-3be8-46db-b1a7-90a65dc725b8",
   "metadata": {},
   "outputs": [
    {
     "data": {
      "image/png": "[encoded data removed]",
      "text/plain": [
       "<Figure size 432x288 with 1 Axes>"
      ]
     },
     "metadata": {
      "needs_background": "light"
     },
     "output_type": "display_data"
    }
   ],
   "source": [
    "a= sm.plotting.plot3d(f, \n",
    "\n",
    "                      (x,-5,5),(y,-5,5), \n",
    "\n",
    "                      xlabel='x', \n",
    "\n",
    "                      ylabel='y', \n",
    "\n",
    "                      title=f'z= {f}')"
   ]
  },
  {
   "cell_type": "markdown",
   "id": "2df032e6-bf6f-481e-ad8d-bce5609f6b18",
   "metadata": {},
   "source": [
    "08"
   ]
  },
  {
   "cell_type": "code",
   "execution_count": 94,
   "id": "e0357012-6df5-428b-a142-2ec9f072c24d",
   "metadata": {},
   "outputs": [
    {
     "data": {
      "text/plain": [
       "(6.123233995736766e-17+1j)"
      ]
     },
     "metadata": {},
     "output_type": "display_data"
    },
    {
     "data": {
      "text/plain": [
       "(0.20787957635076193+1.9994592442463097e-17j)"
      ]
     },
     "metadata": {},
     "output_type": "display_data"
    }
   ],
   "source": [
    "import sympy as sm\n",
    "import math\n",
    "j= sm.symbols('j')\n",
    "\n",
    "j =(-1)**0.5\n",
    "\n",
    "a = j**j\n",
    "\n",
    "display(j)\n",
    "display(a)"
   ]
  },
  {
   "cell_type": "markdown",
   "id": "167aad52-23ec-4f26-912f-4435cc61bfcc",
   "metadata": {},
   "source": [
    "[2] 01"
   ]
  },
  {
   "cell_type": "code",
   "execution_count": 98,
   "id": "aa8c78fb-5bbf-4292-9bd7-dff3b5e2ffc2",
   "metadata": {},
   "outputs": [],
   "source": [
    "import numpy as np\n",
    "A= [[5, 1],\n",
    "    [1, 5]]\n",
    "A= np.array(A)\n",
    "b= [[10],\n",
    "    [20]]\n",
    "b= np.array(b)"
   ]
  },
  {
   "cell_type": "code",
   "execution_count": 99,
   "id": "c3b15baf-9480-443b-ae09-bceed769eb86",
   "metadata": {},
   "outputs": [
    {
     "data": {
      "text/plain": [
       "array([[ 0.20833333, -0.04166667],\n",
       "       [-0.04166667,  0.20833333]])"
      ]
     },
     "execution_count": 99,
     "metadata": {},
     "output_type": "execute_result"
    }
   ],
   "source": [
    "invA= np.linalg.inv(A)\n",
    "invA"
   ]
  },
  {
   "cell_type": "markdown",
   "id": "ba70cb32-e9b0-4fdc-8ccc-25db4d686cc7",
   "metadata": {},
   "source": [
    "02"
   ]
  },
  {
   "cell_type": "code",
   "execution_count": 104,
   "id": "76d445e0-0460-4c33-863c-241a3a12d6fa",
   "metadata": {},
   "outputs": [
    {
     "data": {
      "text/plain": [
       "array([[ 70],\n",
       "       [110]])"
      ]
     },
     "execution_count": 104,
     "metadata": {},
     "output_type": "execute_result"
    }
   ],
   "source": [
    "A@b"
   ]
  },
  {
   "cell_type": "markdown",
   "id": "b9d84692-2f6c-49c0-8a88-97e8d3f9a304",
   "metadata": {},
   "source": [
    "03"
   ]
  },
  {
   "cell_type": "code",
   "execution_count": 105,
   "id": "eefa29b9-eaf7-4acd-915f-216ff5ada213",
   "metadata": {},
   "outputs": [
    {
     "ename": "ValueError",
     "evalue": "matmul: Input operand 1 has a mismatch in its core dimension 0, with gufunc signature (n?,k),(k,m?)->(n?,m?) (size 2 is different from 1)",
     "output_type": "error",
     "traceback": [
      "\u001b[1;31m---------------------------------------------------------------------------\u001b[0m",
      "\u001b[1;31mValueError\u001b[0m                                Traceback (most recent call last)",
      "\u001b[1;32m<ipython-input-105-147a26b1db13>\u001b[0m in \u001b[0;36m<module>\u001b[1;34m\u001b[0m\n\u001b[1;32m----> 1\u001b[1;33m \u001b[0mb\u001b[0m\u001b[1;33m@\u001b[0m\u001b[0mA\u001b[0m\u001b[1;33m\u001b[0m\u001b[1;33m\u001b[0m\u001b[0m\n\u001b[0m",
      "\u001b[1;31mValueError\u001b[0m: matmul: Input operand 1 has a mismatch in its core dimension 0, with gufunc signature (n?,k),(k,m?)->(n?,m?) (size 2 is different from 1)"
     ]
    }
   ],
   "source": [
    "b@A"
   ]
  },
  {
   "cell_type": "markdown",
   "id": "d1deb6e3-71c5-46ec-9239-d0812f556949",
   "metadata": {},
   "source": [
    "04"
   ]
  },
  {
   "cell_type": "code",
   "execution_count": 107,
   "id": "999d6ea4-c653-449d-90d6-cb6f814215cc",
   "metadata": {},
   "outputs": [
    {
     "data": {
      "text/plain": [
       "array([ 70, 110])"
      ]
     },
     "execution_count": 107,
     "metadata": {},
     "output_type": "execute_result"
    }
   ],
   "source": [
    "b=[10,20]\n",
    "b@A"
   ]
  },
  {
   "cell_type": "markdown",
   "id": "a6e06c14-e7f4-46fa-85fb-5a91ba8f797c",
   "metadata": {},
   "source": [
    "05"
   ]
  },
  {
   "cell_type": "markdown",
   "id": "c6c663d8-084b-4b73-b407-549046293d1c",
   "metadata": {},
   "source": [
    "06"
   ]
  },
  {
   "cell_type": "markdown",
   "id": "57fd6ed4-eb06-4b54-85d7-5adb10eb22ce",
   "metadata": {},
   "source": [
    "07"
   ]
  },
  {
   "cell_type": "code",
   "execution_count": 108,
   "id": "41dd4430-6dd2-433e-ae72-bf24df077f0d",
   "metadata": {},
   "outputs": [
    {
     "data": {
      "text/plain": [
       "array([1.25, 3.75])"
      ]
     },
     "execution_count": 108,
     "metadata": {},
     "output_type": "execute_result"
    }
   ],
   "source": [
    "x= np.linalg.solve(A, b) \n",
    "x"
   ]
  },
  {
   "cell_type": "markdown",
   "id": "51671977-cccc-48a2-bf63-1c4a9fce06d7",
   "metadata": {},
   "source": [
    "07驗"
   ]
  },
  {
   "cell_type": "code",
   "execution_count": 109,
   "id": "2f24ee50-5533-4670-b726-89980a7db20f",
   "metadata": {},
   "outputs": [
    {
     "data": {
      "text/plain": [
       "array([10., 20.])"
      ]
     },
     "execution_count": 109,
     "metadata": {},
     "output_type": "execute_result"
    }
   ],
   "source": [
    "A@x"
   ]
  },
  {
   "cell_type": "markdown",
   "id": "7b7aa0c3-2e2b-4d12-93c9-a758185266e3",
   "metadata": {},
   "source": [
    "[3]01"
   ]
  },
  {
   "cell_type": "code",
   "execution_count": 113,
   "id": "c9ceed19-2cc0-4abb-8019-cdb9ceae29c0",
   "metadata": {},
   "outputs": [
    {
     "data": {
      "text/latex": [
       "$\\displaystyle 0.398942283804044 \\sqrt{2} \\sqrt{\\pi} \\operatorname{erf}{\\left(\\sqrt{2} \\right)}$"
      ],
      "text/plain": [
       "0.398942283804044*sqrt(2)*sqrt(pi)*erf(sqrt(2))"
      ]
     },
     "metadata": {},
     "output_type": "display_data"
    }
   ],
   "source": [
    "import sympy as sm\n",
    "x, N, t= sm.symbols('x, N, t') \n",
    "N=float('inf')\n",
    "a = exp(-((x**2)/2))\n",
    "b = (2*3.1415926)**0.5\n",
    "p= sm.integrate( a/b, (x, -2, 2)) \n",
    "     \n",
    "display(p) "
   ]
  },
  {
   "cell_type": "markdown",
   "id": "e180cad1-8746-42ae-90ce-b8f0f48eddc9",
   "metadata": {},
   "source": [
    "02"
   ]
  },
  {
   "cell_type": "code",
   "execution_count": 116,
   "id": "5b31c08d-9f8d-4b0b-bbf2-fc9b89d21858",
   "metadata": {},
   "outputs": [
    {
     "data": {
      "text/latex": [
       "$\\displaystyle 0.199471141902022 \\sqrt{2} \\sqrt{\\pi} \\operatorname{erf}{\\left(\\frac{\\sqrt{2} t}{2} \\right)} + 0.199471141902022 \\sqrt{2} \\sqrt{\\pi}$"
      ],
      "text/plain": [
       "0.199471141902022*sqrt(2)*sqrt(pi)*erf(sqrt(2)*t/2) + 0.199471141902022*sqrt(2)*sqrt(pi)"
      ]
     },
     "metadata": {},
     "output_type": "display_data"
    }
   ],
   "source": [
    "c= sm.integrate( a/b, (x, -N, t)) \n",
    "display(c)"
   ]
  },
  {
   "cell_type": "markdown",
   "id": "1795c020-52ee-48e4-99a8-f10a66a24fd7",
   "metadata": {},
   "source": [
    "03"
   ]
  },
  {
   "cell_type": "code",
   "execution_count": 117,
   "id": "16fcd170-99df-40ed-ba57-2fd2d3fe338d",
   "metadata": {},
   "outputs": [
    {
     "data": {
      "text/latex": [
       "$\\displaystyle 0$"
      ],
      "text/plain": [
       "0"
      ]
     },
     "metadata": {},
     "output_type": "display_data"
    }
   ],
   "source": [
    "E= sm.integrate( x*(a/b), (x, -N, N)) \n",
    "display(E)"
   ]
  },
  {
   "cell_type": "markdown",
   "id": "5eb020e2-47a0-4c53-a415-311454dadde3",
   "metadata": {},
   "source": [
    "04"
   ]
  },
  {
   "cell_type": "code",
   "execution_count": 120,
   "id": "957a0085-9542-4dba-a5c7-4c2cd4d6094c",
   "metadata": {},
   "outputs": [
    {
     "data": {
      "text/latex": [
       "$\\displaystyle 0.398942283804044 \\sqrt{2} \\sqrt{\\pi}$"
      ],
      "text/plain": [
       "0.398942283804044*sqrt(2)*sqrt(pi)"
      ]
     },
     "metadata": {},
     "output_type": "display_data"
    }
   ],
   "source": [
    "f= sm.integrate( (x**2)*(a/b), (x, -N, N)) \n",
    "display(f)"
   ]
  },
  {
   "cell_type": "markdown",
   "id": "150e2768-c879-486b-9784-cd06b7d8f9a2",
   "metadata": {},
   "source": [
    "05"
   ]
  },
  {
   "cell_type": "code",
   "execution_count": 121,
   "id": "f60c34b5-77af-415c-8786-2152f3256c53",
   "metadata": {},
   "outputs": [
    {
     "data": {
      "text/latex": [
       "$\\displaystyle 0$"
      ],
      "text/plain": [
       "0"
      ]
     },
     "metadata": {},
     "output_type": "display_data"
    }
   ],
   "source": [
    "s= sm.integrate( (x**3)*(a/b), (x, -N, N)) \n",
    "display(s)"
   ]
  },
  {
   "cell_type": "markdown",
   "id": "5da5bc4d-e70e-42e7-9f79-f9029401c4d7",
   "metadata": {},
   "source": [
    "06"
   ]
  },
  {
   "cell_type": "code",
   "execution_count": 123,
   "id": "a401edda-5e07-48cf-9e76-cf5eb7a4ba8b",
   "metadata": {},
   "outputs": [
    {
     "data": {
      "text/latex": [
       "$\\displaystyle 1.19682685141213 \\sqrt{2} \\sqrt{\\pi}$"
      ],
      "text/plain": [
       "1.19682685141213*sqrt(2)*sqrt(pi)"
      ]
     },
     "metadata": {},
     "output_type": "display_data"
    }
   ],
   "source": [
    "k= sm.integrate( (x**4)*(a/b), (x, -N, N)) \n",
    "display(k)"
   ]
  },
  {
   "cell_type": "markdown",
   "id": "d6703997-2b8a-42d0-a388-18ba4c1cd063",
   "metadata": {},
   "source": [
    "07"
   ]
  },
  {
   "cell_type": "code",
   "execution_count": 124,
   "id": "285fecca-e531-4dbe-8611-856a444d9ce5",
   "metadata": {},
   "outputs": [
    {
     "data": {
      "text/latex": [
       "$\\displaystyle 0.566074575611621 \\sqrt{2} \\sqrt{\\pi}$"
      ],
      "text/plain": [
       "0.566074575611621*sqrt(2)*sqrt(pi)"
      ]
     },
     "metadata": {},
     "output_type": "display_data"
    }
   ],
   "source": [
    "import math\n",
    "z= sm.integrate( (log(1/(a/b)))*(a/b), (x, -N, N)) \n",
    "display(z)"
   ]
  },
  {
   "cell_type": "code",
   "execution_count": null,
   "id": "f9533cae-9e9f-4b55-894b-8020ccb69a9c",
   "metadata": {},
   "outputs": [],
   "source": []
  }
 ],
 "metadata": {
  "kernelspec": {
   "display_name": "Python 3",
   "language": "python",
   "name": "python3"
  },
  "language_info": {
   "codemirror_mode": {
    "name": "ipython",
    "version": 3
   },
   "file_extension": ".py",
   "mimetype": "text/x-python",
   "name": "python",
   "nbconvert_exporter": "python",
   "pygments_lexer": "ipython3",
   "version": "3.8.8"
  }
 },
 "nbformat": 4,
 "nbformat_minor": 5
}

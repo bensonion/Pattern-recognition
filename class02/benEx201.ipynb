{
 "cells": [
  {
   "cell_type": "code",
   "execution_count": 1,
   "id": "0c39c70b-9124-44db-b74d-40ebb5641ff7",
   "metadata": {},
   "outputs": [],
   "source": [
    "import os\n",
    "import sys\n",
    "import glob\n",
    "import matplotlib.pyplot as plt\n",
    "import numpy as np\n",
    "import pandas as pd\n",
    "%matplotlib inline\n",
    "%precision 4\n",
    "plt.style.use('ggplot')\n"
   ]
  },
  {
   "cell_type": "markdown",
   "id": "358e7ddc-1d2d-4340-b925-f4bcf1a627ef",
   "metadata": {},
   "source": [
    "LU Decomposition and Gaussian Elimination"
   ]
  },
  {
   "cell_type": "code",
   "execution_count": 10,
   "id": "be87f4fe-f71d-428a-8eeb-1fb823f7d18f",
   "metadata": {},
   "outputs": [
    {
     "name": "stdout",
     "output_type": "stream",
     "text": [
      "[[ 1.  2.  3.]\n",
      " [ 2. -4.  6.]\n",
      " [ 3. -9. -3.]]\n",
      "[[1.    0.    0.   ]\n",
      " [2.    1.    0.   ]\n",
      " [3.    1.875 1.   ]]\n",
      "[[  1   2   3]\n",
      " [  0  -8   0]\n",
      " [  0   0 -12]]\n"
     ]
    }
   ],
   "source": [
    "import numpy as np\n",
    "import scipy.linalg as la\n",
    "np.set_printoptions(suppress=True)\n",
    "\n",
    "A = np.array([[1,3,4],[2,1,3],[4,1,2]])\n",
    "\n",
    "L = np.array([[1,0,0],[2,1,0],[3,15/8,1]])\n",
    "U = np.array([[1,2,3],[0,-8,0],[0,0,-12]])\n",
    "print(L.dot(U))\n",
    "print(L)\n",
    "print(U)"
   ]
  },
  {
   "cell_type": "code",
   "execution_count": 8,
   "id": "5bbf1aa8-ad92-4ba5-a853-2c858ddfe4d3",
   "metadata": {},
   "outputs": [
    {
     "name": "stdout",
     "output_type": "stream",
     "text": [
      "[[ 1  2  3]\n",
      " [ 2 -4  6]\n",
      " [ 3 -9 -3]]\n",
      "[[ 3. -9. -3.]\n",
      " [ 1.  2.  3.]\n",
      " [ 2. -4.  6.]]\n",
      "[[ 3. -9. -3.]\n",
      " [ 1.  2.  3.]\n",
      " [ 2. -4.  6.]]\n",
      "P = \n",
      " [[0. 1. 0.]\n",
      " [0. 0. 1.]\n",
      " [1. 0. 0.]]\n",
      "L = \n",
      " [[1.         0.         0.        ]\n",
      " [0.33333333 1.         0.        ]\n",
      " [0.66666667 0.4        1.        ]]\n",
      "U = \n",
      " [[ 3.  -9.  -3. ]\n",
      " [ 0.   5.   4. ]\n",
      " [ 0.   0.   6.4]]\n"
     ]
    }
   ],
   "source": [
    "\n",
    "import numpy as np\n",
    "import scipy.linalg as la\n",
    "np.set_printoptions(suppress=True)\n",
    "\n",
    "A = np.array([[1,2,3],[2,-4,6],[3,-9,-3]])\n",
    "\n",
    "print(A)\n",
    "\n",
    "P, L, U = la.lu(A)\n",
    "print(np.dot(P.T, A))\n",
    "print(np.dot(L, U))\n",
    "print(\"P = \\n\",P)\n",
    "print(\"L = \\n\",L)\n",
    "print(\"U = \\n\",U)"
   ]
  },
  {
   "cell_type": "markdown",
   "id": "08c4e16c-5302-4dcc-8513-012234a5a99d",
   "metadata": {},
   "source": [
    "Eigendecomposition"
   ]
  },
  {
   "cell_type": "code",
   "execution_count": 5,
   "id": "5ce5b8ad-7f30-4512-beab-7d2669724d1a",
   "metadata": {},
   "outputs": [
    {
     "name": "stdout",
     "output_type": "stream",
     "text": [
      "[[ 1.-0.j  2.-0.j  3.+0.j]\n",
      " [ 2.-0.j -4.+0.j  6.-0.j]\n",
      " [ 3.-0.j -9.+0.j -3.-0.j]]\n",
      "[ 1.64015533+0.j         -3.82007767+6.62857814j -3.82007767-6.62857814j]\n"
     ]
    }
   ],
   "source": [
    "A = np.array([[1,2,3],[2,-4,6],[3,-9,-3]])\n",
    "\n",
    "u, V = la.eig(A)\n",
    "print(np.dot(V,np.dot(np.diag(u), la.inv(V))))\n",
    "print(u)"
   ]
  },
  {
   "cell_type": "code",
   "execution_count": 6,
   "id": "a5bcca62-90fb-488e-8f34-cd7e7f05648b",
   "metadata": {},
   "outputs": [
    {
     "name": "stdout",
     "output_type": "stream",
     "text": [
      "[[ 0  1]\n",
      " [-1  0]]\n",
      "[[ 0.+0.j  1.+0.j]\n",
      " [-1.+0.j  0.+0.j]]\n",
      "[0.+1.j 0.-1.j]\n"
     ]
    }
   ],
   "source": [
    "A = np.array([[0,1],[-1,0]])\n",
    "print(A)\n",
    "\n",
    "u, V = la.eig(A)\n",
    "print(np.dot(V,np.dot(np.diag(u), la.inv(V))))\n",
    "print(u)"
   ]
  },
  {
   "cell_type": "code",
   "execution_count": 7,
   "id": "7def7674-496c-47ec-9337-8eda82146c60",
   "metadata": {},
   "outputs": [
    {
     "name": "stdout",
     "output_type": "stream",
     "text": [
      "[ 1.64015533+0.j         -3.82007767+6.62857814j -3.82007767-6.62857814j]\n",
      "[ 1.64015533+0.j         -3.82007767+6.62857814j -3.82007767-6.62857814j]\n"
     ]
    }
   ],
   "source": [
    "A = np.array([[1,2,3],[2,-4,6],[3,-9,-3]])\n",
    "u, V = la.eig(A)\n",
    "print(u)\n",
    "print (np.real_if_close(u))"
   ]
  },
  {
   "cell_type": "code",
   "execution_count": null,
   "id": "6e120545-9b52-4d20-8c3b-771e3eac7481",
   "metadata": {},
   "outputs": [],
   "source": []
  }
 ],
 "metadata": {
  "kernelspec": {
   "display_name": "Python 3",
   "language": "python",
   "name": "python3"
  },
  "language_info": {
   "codemirror_mode": {
    "name": "ipython",
    "version": 3
   },
   "file_extension": ".py",
   "mimetype": "text/x-python",
   "name": "python",
   "nbconvert_exporter": "python",
   "pygments_lexer": "ipython3",
   "version": "3.8.8"
  }
 },
 "nbformat": 4,
 "nbformat_minor": 5
}

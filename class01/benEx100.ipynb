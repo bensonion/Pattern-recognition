{
 "cells": [
  {
   "cell_type": "code",
   "execution_count": null,
   "id": "629c4abd-0bab-4137-8b86-072f7d170419",
   "metadata": {},
   "outputs": [],
   "source": []
  },
  {
   "cell_type": "code",
   "execution_count": 2,
   "id": "6782ae0e-ffa5-4a8d-a463-57ea4e3ac07a",
   "metadata": {},
   "outputs": [
    {
     "data": {
      "text/plain": [
       "(1, 2, 3)"
      ]
     },
     "execution_count": 2,
     "metadata": {},
     "output_type": "execute_result"
    }
   ],
   "source": [
    "x= 1\n",
    "y= 2\n",
    "z= x+y\n",
    "\n",
    "x,y,z"
   ]
  },
  {
   "cell_type": "code",
   "execution_count": 4,
   "id": "e2eb737e-daa7-44fc-85ba-afcfcf2f239d",
   "metadata": {},
   "outputs": [
    {
     "data": {
      "text/plain": [
       "5"
      ]
     },
     "execution_count": 4,
     "metadata": {},
     "output_type": "execute_result"
    }
   ],
   "source": [
    "\n",
    "def f(x,y):\n",
    "    z= x+y\n",
    "    return z\n",
    "\n",
    "f(2, 3)"
   ]
  },
  {
   "cell_type": "code",
   "execution_count": 5,
   "id": "fa352579-4312-416b-9110-d7dc05fe6695",
   "metadata": {},
   "outputs": [
    {
     "data": {
      "text/plain": [
       "(3, -1, 2, 0.5)"
      ]
     },
     "execution_count": 5,
     "metadata": {},
     "output_type": "execute_result"
    }
   ],
   "source": [
    "def add(x,y):\n",
    "    z= x+y\n",
    "    return z\n",
    "def sub(x,y):\n",
    "    z= x-y\n",
    "    return z\n",
    "def mul(x,y):\n",
    "    z= x*y\n",
    "    return z\n",
    "def div(x,y):\n",
    "    z= x/y\n",
    "    return z\n",
    "\n",
    "a= add(1,2)\n",
    "s= sub(1,2)\n",
    "m= mul(1,2)\n",
    "d= div(1,2)\n",
    "a,s,m,d"
   ]
  },
  {
   "cell_type": "code",
   "execution_count": 6,
   "id": "38e84f79-7ec3-4979-a22a-5803a6728c5d",
   "metadata": {},
   "outputs": [
    {
     "data": {
      "text/plain": [
       "(1, 2, 2)"
      ]
     },
     "execution_count": 6,
     "metadata": {},
     "output_type": "execute_result"
    }
   ],
   "source": [
    "x= 1\n",
    "y= 2\n",
    "z= x*y\n",
    "\n",
    "x,y,z"
   ]
  },
  {
   "cell_type": "code",
   "execution_count": 7,
   "id": "b5c1af8d-6d6d-4b21-a9c9-f0d421d8addd",
   "metadata": {},
   "outputs": [
    {
     "data": {
      "text/plain": [
       "(1, 2, 0.5)"
      ]
     },
     "execution_count": 7,
     "metadata": {},
     "output_type": "execute_result"
    }
   ],
   "source": [
    "x= 1\n",
    "y= 2\n",
    "z= x/y\n",
    "\n",
    "x,y,z"
   ]
  },
  {
   "cell_type": "code",
   "execution_count": 4,
   "id": "97af4c19-591c-414f-926b-804378fdbc21",
   "metadata": {},
   "outputs": [
    {
     "data": {
      "text/plain": [
       "(<__main__.Number at 0x2064e6f2c10>, 100, 101, 98, 400, 20.0)"
      ]
     },
     "execution_count": 4,
     "metadata": {},
     "output_type": "execute_result"
    }
   ],
   "source": [
    "class Number:\n",
    "    \n",
    "    def __init__(self,x=0):\n",
    "        self.x= x\n",
    "        \n",
    "    def add(self,y):\n",
    "        z= self.x + y\n",
    "        return z\n",
    "    \n",
    "    def sub(self,y):\n",
    "        z= self.x - y\n",
    "        return z\n",
    "    \n",
    "    def mul(self,y):\n",
    "        z= self.x * y\n",
    "        return z\n",
    "    \n",
    "    def div(self,y):\n",
    "        z= self.x / y\n",
    "        return z\n",
    "\n",
    "n= Number(100)\n",
    "a= n.add(1)\n",
    "s= n.sub(2)\n",
    "m= n.mul(4)\n",
    "d= n.div(5)\n",
    "n, n.x, a, s, m, d"
   ]
  },
  {
   "cell_type": "code",
   "execution_count": 9,
   "id": "b30de19d-d689-4dbb-a2b7-eeb05f778bbd",
   "metadata": {},
   "outputs": [
    {
     "data": {
      "text/plain": [
       "(<__main__.Number at 0x2064e789eb0>, 100, 101, 99, 100, 100.0)"
      ]
     },
     "execution_count": 9,
     "metadata": {},
     "output_type": "execute_result"
    }
   ],
   "source": [
    "\n",
    "# 運用繼承的觀念，繼續擴充 物件內涵\n",
    "# dunder (double under，雙底線) __xxx__\n",
    "\n",
    "class Number(Number):\n",
    "        \n",
    "    def __add__(self,y):\n",
    "        z= self.add(y)\n",
    "        return z\n",
    "    def __sub__(self,y):\n",
    "        z= self.sub(y)\n",
    "        return z\n",
    "    def __mul__(self,y):\n",
    "        z= self.mul(y)\n",
    "        return z\n",
    "    def __truediv__(self,y): # 這個除法的名稱比較特殊\n",
    "        z= self.div(y)\n",
    "        return z\n",
    "\n",
    "\n",
    "n= Number(100)\n",
    "a= n.add(1)\n",
    "s= n.sub(1)\n",
    "m= n.mul(1)\n",
    "d= n.div(1)\n",
    "n, n.x, a, s, m, d"
   ]
  },
  {
   "cell_type": "code",
   "execution_count": 10,
   "id": "46633a7f-8f5d-40b1-b42d-34773323cd24",
   "metadata": {},
   "outputs": [
    {
     "data": {
      "text/plain": [
       "(<__main__.Number at 0x2064e789eb0>, 100, 104, 95, 200, 50.0)"
      ]
     },
     "execution_count": 10,
     "metadata": {},
     "output_type": "execute_result"
    }
   ],
   "source": [
    "# __xxx___  double under (dunder)\n",
    "a= n.__add__(4)\n",
    "s= n.__sub__(5)\n",
    "m= n.__mul__(2)\n",
    "d= n.__truediv__(2)\n",
    "n, n.x, a, s, m, d\n"
   ]
  },
  {
   "cell_type": "code",
   "execution_count": 11,
   "id": "e4c5df02-6b3b-4a90-a6b0-d246e6483508",
   "metadata": {},
   "outputs": [
    {
     "data": {
      "text/plain": [
       "(<__main__.Number at 0x2064e789eb0>, 100, 102, 98, 200, 50.0)"
      ]
     },
     "execution_count": 11,
     "metadata": {},
     "output_type": "execute_result"
    }
   ],
   "source": [
    "a= n+2\n",
    "s= n-2\n",
    "m= n*2\n",
    "d= n/2\n",
    "n, n.x, a, s, m, d"
   ]
  },
  {
   "cell_type": "code",
   "execution_count": 12,
   "id": "358f40e4-a336-48cd-af14-ccb140ad1f06",
   "metadata": {},
   "outputs": [
    {
     "data": {
      "text/plain": [
       "100"
      ]
     },
     "execution_count": 12,
     "metadata": {},
     "output_type": "execute_result"
    }
   ],
   "source": [
    "class Number(Number):\n",
    "    \n",
    "    # print our string object\n",
    "    def __repr__(self):      # 更改 此 物件的 print() 結果。 以字串型態送出去。\n",
    "        return f'{self.x}'\n",
    "    pass\n",
    "    \n",
    "    \n",
    "n= Number(100)\n",
    "n\n"
   ]
  },
  {
   "cell_type": "code",
   "execution_count": 13,
   "id": "27bde513-1cc7-4873-9114-4d5265e8a2d4",
   "metadata": {},
   "outputs": [
    {
     "data": {
      "text/plain": [
       "__main__.Number"
      ]
     },
     "execution_count": 13,
     "metadata": {},
     "output_type": "execute_result"
    }
   ],
   "source": [
    "type(n)"
   ]
  },
  {
   "cell_type": "code",
   "execution_count": 14,
   "id": "af587d43-567d-449d-a288-f5aa6e40678e",
   "metadata": {},
   "outputs": [],
   "source": [
    "# 向量的加減乘除四則運算"
   ]
  },
  {
   "cell_type": "code",
   "execution_count": 15,
   "id": "a0b68c57-83f5-448d-9791-ec211e9d7c06",
   "metadata": {},
   "outputs": [
    {
     "data": {
      "text/plain": [
       "[1, 2, 3, 10, 20, 30]"
      ]
     },
     "execution_count": 15,
     "metadata": {},
     "output_type": "execute_result"
    }
   ],
   "source": [
    "x= [1,2,3]\n",
    "y= [10,20,30]\n",
    "x+y"
   ]
  },
  {
   "cell_type": "code",
   "execution_count": 17,
   "id": "8c27d20e-a2f4-4beb-a12a-021db89d7591",
   "metadata": {},
   "outputs": [
    {
     "ename": "TypeError",
     "evalue": "unsupported operand type(s) for -: 'list' and 'list'",
     "output_type": "error",
     "traceback": [
      "\u001b[1;31m---------------------------------------------------------------------------\u001b[0m",
      "\u001b[1;31mTypeError\u001b[0m                                 Traceback (most recent call last)",
      "\u001b[1;32m<ipython-input-17-3d3034cb91dd>\u001b[0m in \u001b[0;36m<module>\u001b[1;34m\u001b[0m\n\u001b[0;32m      1\u001b[0m \u001b[0mx\u001b[0m\u001b[1;33m=\u001b[0m \u001b[1;33m[\u001b[0m\u001b[1;36m1\u001b[0m\u001b[1;33m,\u001b[0m\u001b[1;36m2\u001b[0m\u001b[1;33m,\u001b[0m\u001b[1;36m3\u001b[0m\u001b[1;33m]\u001b[0m\u001b[1;33m\u001b[0m\u001b[1;33m\u001b[0m\u001b[0m\n\u001b[0;32m      2\u001b[0m \u001b[0my\u001b[0m\u001b[1;33m=\u001b[0m \u001b[1;33m[\u001b[0m\u001b[1;36m10\u001b[0m\u001b[1;33m,\u001b[0m\u001b[1;36m20\u001b[0m\u001b[1;33m,\u001b[0m\u001b[1;36m30\u001b[0m\u001b[1;33m]\u001b[0m\u001b[1;33m\u001b[0m\u001b[1;33m\u001b[0m\u001b[0m\n\u001b[1;32m----> 3\u001b[1;33m \u001b[0mx\u001b[0m\u001b[1;33m-\u001b[0m\u001b[0my\u001b[0m\u001b[1;33m,\u001b[0m \u001b[0mx\u001b[0m\u001b[1;33m*\u001b[0m\u001b[0my\u001b[0m\u001b[1;33m,\u001b[0m \u001b[0mx\u001b[0m\u001b[1;33m/\u001b[0m\u001b[0my\u001b[0m\u001b[1;33m\u001b[0m\u001b[1;33m\u001b[0m\u001b[0m\n\u001b[0m",
      "\u001b[1;31mTypeError\u001b[0m: unsupported operand type(s) for -: 'list' and 'list'"
     ]
    }
   ],
   "source": [
    "x-y, x*y, x/y"
   ]
  },
  {
   "cell_type": "code",
   "execution_count": 18,
   "id": "b735de4b-eb74-472b-8a65-5035abbb1b30",
   "metadata": {},
   "outputs": [],
   "source": [
    "\n",
    "# Python List 的 運算 +, -, * , / 不是 我們在數學上向量、矩陣、、、等的定義方式。\n",
    "# 自己定義一個向量物件，使其符合數學上的定義！"
   ]
  },
  {
   "cell_type": "code",
   "execution_count": 19,
   "id": "1d434f72-0ca6-48cf-9abd-c30320665484",
   "metadata": {},
   "outputs": [
    {
     "data": {
      "text/plain": [
       "[11, 22, 33, 44]"
      ]
     },
     "execution_count": 19,
     "metadata": {},
     "output_type": "execute_result"
    }
   ],
   "source": [
    "class Vector:\n",
    "    def __init__(self, x):\n",
    "        self.x= x\n",
    "        \n",
    "    def add(self,y):    \n",
    "        z= [xi+yi for xi,yi in zip(self.x, y)]\n",
    "        return z\n",
    "\n",
    "v= Vector([1,2,3,4])\n",
    "v.add([10,20,30,40])"
   ]
  },
  {
   "cell_type": "code",
   "execution_count": 20,
   "id": "7c04898f-f390-46ae-acce-3def92a3799d",
   "metadata": {},
   "outputs": [],
   "source": [
    "# 把它擴展成 +, - , *, / 都可以\n"
   ]
  },
  {
   "cell_type": "code",
   "execution_count": 21,
   "id": "f5530664-fcf3-4d77-b6b1-71a828333bc5",
   "metadata": {},
   "outputs": [
    {
     "data": {
      "text/plain": [
       "(<__main__.Vector at 0x2064e789280>, [1, 2, 3, 4])"
      ]
     },
     "execution_count": 21,
     "metadata": {},
     "output_type": "execute_result"
    }
   ],
   "source": [
    "class Vector:\n",
    "    def __init__(self, x):\n",
    "        self.x= x\n",
    "        \n",
    "    def add(self,y):    \n",
    "        z= [xi+yi for xi,yi in zip(self.x, y)]\n",
    "        return z\n",
    "    def sub(self,y):    \n",
    "        z= [xi-yi for xi,yi in zip(self.x, y)]\n",
    "        return z\n",
    "    def mul(self,y):    \n",
    "        z= [xi*yi for xi,yi in zip(self.x, y)]\n",
    "        return z\n",
    "    def div(self,y):    \n",
    "        z= [xi/yi for xi,yi in zip(self.x, y)]\n",
    "        return z\n",
    "    \n",
    "    def __add__(self,y):    \n",
    "        z= self.add(y)\n",
    "        return z\n",
    "    def __sub__(self,y):    \n",
    "        z= self.sub(y)\n",
    "        return z\n",
    "    def __mul__(self,y):    \n",
    "        z= self.mul(y)\n",
    "        return z\n",
    "    def __truediv__(self,y):    \n",
    "        z= self.div(y)\n",
    "        return z\n",
    "\n",
    "v= Vector([1,2,3,4])\n",
    "v, v.x"
   ]
  },
  {
   "cell_type": "code",
   "execution_count": 22,
   "id": "9f0a4ad5-61de-4ee8-a2e5-52ec2cdc9bb2",
   "metadata": {},
   "outputs": [
    {
     "data": {
      "text/plain": [
       "([1, 2, 3, 4],\n",
       " [11, 22, 33, 44],\n",
       " [-9, -18, -27, -36],\n",
       " [10, 40, 90, 160],\n",
       " [0.1, 0.1, 0.1, 0.1])"
      ]
     },
     "execution_count": 22,
     "metadata": {},
     "output_type": "execute_result"
    }
   ],
   "source": [
    "a= v + [10,20,30,40]\n",
    "s= v - [10,20,30,40]\n",
    "m= v * [10,20,30,40]\n",
    "d= v / [10,20,30,40]\n",
    "v.x, a, s, m, d"
   ]
  },
  {
   "cell_type": "code",
   "execution_count": 23,
   "id": "a18d8f81-bad3-4da7-bbc1-5e4e7bd6bd26",
   "metadata": {},
   "outputs": [],
   "source": [
    "import numpy as np\n"
   ]
  },
  {
   "cell_type": "code",
   "execution_count": 24,
   "id": "d0d3a49f-c0f1-4fb6-b392-5e8ac0472dbf",
   "metadata": {},
   "outputs": [
    {
     "data": {
      "text/plain": [
       "[1, 2, 3, 4]"
      ]
     },
     "execution_count": 24,
     "metadata": {},
     "output_type": "execute_result"
    }
   ],
   "source": [
    "v= [1, 2, 3, 4]\n",
    "v"
   ]
  },
  {
   "cell_type": "code",
   "execution_count": 25,
   "id": "21429916-950e-46cb-aa86-07215667285c",
   "metadata": {},
   "outputs": [
    {
     "data": {
      "text/plain": [
       "array([1, 2, 3, 4])"
      ]
     },
     "execution_count": 25,
     "metadata": {},
     "output_type": "execute_result"
    }
   ],
   "source": [
    "v= np.array(v)\n",
    "v"
   ]
  },
  {
   "cell_type": "code",
   "execution_count": 26,
   "id": "e61ff042-88cf-4957-84a5-0cb0e09a3b34",
   "metadata": {},
   "outputs": [
    {
     "data": {
      "text/plain": [
       "(4,)"
      ]
     },
     "execution_count": 26,
     "metadata": {},
     "output_type": "execute_result"
    }
   ],
   "source": [
    "v.shape"
   ]
  },
  {
   "cell_type": "code",
   "execution_count": 27,
   "id": "7a83970b-b998-4276-9981-0688cab54953",
   "metadata": {},
   "outputs": [
    {
     "data": {
      "text/plain": [
       "[[1, 2, 3, 4], [5, 6, 7, 8]]"
      ]
     },
     "execution_count": 27,
     "metadata": {},
     "output_type": "execute_result"
    }
   ],
   "source": [
    "A= [[1,2,3,4],\n",
    "    [5,6,7,8]]\n",
    "A"
   ]
  },
  {
   "cell_type": "code",
   "execution_count": 28,
   "id": "1d4c0565-91fa-4408-a95e-2e0b38ec832f",
   "metadata": {},
   "outputs": [
    {
     "data": {
      "text/plain": [
       "array([[1, 2, 3, 4],\n",
       "       [5, 6, 7, 8]])"
      ]
     },
     "execution_count": 28,
     "metadata": {},
     "output_type": "execute_result"
    }
   ],
   "source": [
    "A= np.array(A)\n",
    "A"
   ]
  },
  {
   "cell_type": "code",
   "execution_count": 29,
   "id": "f98fb9a4-14da-4b18-ab0b-a8536697a46b",
   "metadata": {},
   "outputs": [
    {
     "data": {
      "text/plain": [
       "(2, 4)"
      ]
     },
     "execution_count": 29,
     "metadata": {},
     "output_type": "execute_result"
    }
   ],
   "source": [
    "A.shape"
   ]
  },
  {
   "cell_type": "code",
   "execution_count": 30,
   "id": "5f8e4e8a-f424-46c9-9a90-d54b0e78ae2f",
   "metadata": {},
   "outputs": [
    {
     "data": {
      "text/plain": [
       "[[1, 2, 3, 4], [5, 6, 7, 8], [9, 10, 11, 12], [13, 14, 15, 16]]"
      ]
     },
     "execution_count": 30,
     "metadata": {},
     "output_type": "execute_result"
    }
   ],
   "source": [
    "T=[[1,2,3,4],\n",
    "   [5,6,7,8],\n",
    "   [9,10,11,12],\n",
    "   [13,14,15,16]]\n",
    "T"
   ]
  },
  {
   "cell_type": "code",
   "execution_count": 31,
   "id": "d1c71154-6c81-4a75-9416-bed54a8366d7",
   "metadata": {},
   "outputs": [
    {
     "data": {
      "text/plain": [
       "array([[ 1,  2,  3,  4],\n",
       "       [ 5,  6,  7,  8],\n",
       "       [ 9, 10, 11, 12],\n",
       "       [13, 14, 15, 16]])"
      ]
     },
     "execution_count": 31,
     "metadata": {},
     "output_type": "execute_result"
    }
   ],
   "source": [
    "T= np.array(T)\n",
    "T"
   ]
  },
  {
   "cell_type": "code",
   "execution_count": 32,
   "id": "dc6aef7b-eef8-44cc-b823-eb5433264e7f",
   "metadata": {},
   "outputs": [
    {
     "data": {
      "text/plain": [
       "(4, 4)"
      ]
     },
     "execution_count": 32,
     "metadata": {},
     "output_type": "execute_result"
    }
   ],
   "source": [
    "T.shape"
   ]
  },
  {
   "cell_type": "code",
   "execution_count": 33,
   "id": "b5189745-f630-44d3-bd8f-9c911d671d5c",
   "metadata": {},
   "outputs": [
    {
     "data": {
      "text/plain": [
       "array([[[ 1,  2,  3,  4],\n",
       "        [ 5,  6,  7,  8]],\n",
       "\n",
       "       [[ 9, 10, 11, 12],\n",
       "        [13, 14, 15, 16]]])"
      ]
     },
     "execution_count": 33,
     "metadata": {},
     "output_type": "execute_result"
    }
   ],
   "source": [
    "T= T.reshape((2,2,4))\n",
    "T"
   ]
  },
  {
   "cell_type": "code",
   "execution_count": 34,
   "id": "3530b5b1-1528-4996-9876-26f27c8d6498",
   "metadata": {},
   "outputs": [
    {
     "data": {
      "text/plain": [
       "(2, 2, 4)"
      ]
     },
     "execution_count": 34,
     "metadata": {},
     "output_type": "execute_result"
    }
   ],
   "source": [
    "T.shape"
   ]
  },
  {
   "cell_type": "code",
   "execution_count": 35,
   "id": "f7ea6651-f18d-4df0-ae4c-5eaaa41bcbf2",
   "metadata": {},
   "outputs": [
    {
     "data": {
      "text/plain": [
       "array([[1, 2, 3, 4],\n",
       "       [5, 6, 7, 8]])"
      ]
     },
     "execution_count": 35,
     "metadata": {},
     "output_type": "execute_result"
    }
   ],
   "source": [
    "T[0]"
   ]
  },
  {
   "cell_type": "code",
   "execution_count": 36,
   "id": "5abcad7c-2d9b-4eda-9734-56b1cefaa904",
   "metadata": {},
   "outputs": [
    {
     "data": {
      "text/plain": [
       "array([[ 9, 10, 11, 12],\n",
       "       [13, 14, 15, 16]])"
      ]
     },
     "execution_count": 36,
     "metadata": {},
     "output_type": "execute_result"
    }
   ],
   "source": [
    "T[1]"
   ]
  },
  {
   "cell_type": "code",
   "execution_count": 37,
   "id": "e9f9a8e9-7412-48aa-b230-4c156c444229",
   "metadata": {},
   "outputs": [
    {
     "data": {
      "text/plain": [
       "1"
      ]
     },
     "execution_count": 37,
     "metadata": {},
     "output_type": "execute_result"
    }
   ],
   "source": [
    "v.ndim"
   ]
  },
  {
   "cell_type": "code",
   "execution_count": 38,
   "id": "41a09a4f-3536-4177-8d63-53cb4591a537",
   "metadata": {},
   "outputs": [
    {
     "data": {
      "text/plain": [
       "2"
      ]
     },
     "execution_count": 38,
     "metadata": {},
     "output_type": "execute_result"
    }
   ],
   "source": [
    "A.ndim"
   ]
  },
  {
   "cell_type": "code",
   "execution_count": 39,
   "id": "3d498f47-b16a-47f4-a918-e77f3b3821d4",
   "metadata": {},
   "outputs": [
    {
     "data": {
      "text/plain": [
       "3"
      ]
     },
     "execution_count": 39,
     "metadata": {},
     "output_type": "execute_result"
    }
   ],
   "source": [
    "T.ndim"
   ]
  },
  {
   "cell_type": "code",
   "execution_count": 40,
   "id": "3e9f7fd9-5967-463f-b6f8-edc5d97fecf0",
   "metadata": {},
   "outputs": [
    {
     "data": {
      "text/plain": [
       "array([[[[ 1,  2],\n",
       "         [ 3,  4]],\n",
       "\n",
       "        [[ 5,  6],\n",
       "         [ 7,  8]]],\n",
       "\n",
       "\n",
       "       [[[ 9, 10],\n",
       "         [11, 12]],\n",
       "\n",
       "        [[13, 14],\n",
       "         [15, 16]]]])"
      ]
     },
     "execution_count": 40,
     "metadata": {},
     "output_type": "execute_result"
    }
   ],
   "source": [
    "T4d= T.reshape(2,2,2,2)\n",
    "T4d"
   ]
  },
  {
   "cell_type": "code",
   "execution_count": 41,
   "id": "7d1ed6cd-a2e5-43fd-beb5-0347f686a9bc",
   "metadata": {},
   "outputs": [
    {
     "data": {
      "text/plain": [
       "(2, 2, 2, 2)"
      ]
     },
     "execution_count": 41,
     "metadata": {},
     "output_type": "execute_result"
    }
   ],
   "source": [
    "T4d.shape"
   ]
  },
  {
   "cell_type": "code",
   "execution_count": 42,
   "id": "16480145-f595-4d41-a417-624217917860",
   "metadata": {},
   "outputs": [
    {
     "data": {
      "text/plain": [
       "(array([1, 2, 3, 4]),\n",
       " array([[1, 2, 3, 4],\n",
       "        [5, 6, 7, 8]]),\n",
       " array([[[ 1,  2,  3,  4],\n",
       "         [ 5,  6,  7,  8]],\n",
       " \n",
       "        [[ 9, 10, 11, 12],\n",
       "         [13, 14, 15, 16]]]),\n",
       " array([[[[ 1,  2],\n",
       "          [ 3,  4]],\n",
       " \n",
       "         [[ 5,  6],\n",
       "          [ 7,  8]]],\n",
       " \n",
       " \n",
       "        [[[ 9, 10],\n",
       "          [11, 12]],\n",
       " \n",
       "         [[13, 14],\n",
       "          [15, 16]]]]))"
      ]
     },
     "execution_count": 42,
     "metadata": {},
     "output_type": "execute_result"
    }
   ],
   "source": [
    "v, A, T, T4d"
   ]
  },
  {
   "cell_type": "code",
   "execution_count": 43,
   "id": "6f205cf5-c9ac-4454-a913-25a982fc526e",
   "metadata": {},
   "outputs": [
    {
     "data": {
      "text/plain": [
       "array([1, 2, 3, 4])"
      ]
     },
     "execution_count": 43,
     "metadata": {},
     "output_type": "execute_result"
    }
   ],
   "source": [
    "v"
   ]
  },
  {
   "cell_type": "code",
   "execution_count": 44,
   "id": "963f4ade-4158-40be-a3ae-1cfd61b6ecd4",
   "metadata": {},
   "outputs": [
    {
     "data": {
      "text/plain": [
       "array([[1, 2, 3, 4]])"
      ]
     },
     "execution_count": 44,
     "metadata": {},
     "output_type": "execute_result"
    }
   ],
   "source": [
    "v14= v.reshape(1,4)\n",
    "v14"
   ]
  },
  {
   "cell_type": "code",
   "execution_count": 45,
   "id": "144fece3-eeaf-48e4-9d7c-512d742d68c5",
   "metadata": {},
   "outputs": [
    {
     "data": {
      "text/plain": [
       "array([[1],\n",
       "       [2],\n",
       "       [3],\n",
       "       [4]])"
      ]
     },
     "execution_count": 45,
     "metadata": {},
     "output_type": "execute_result"
    }
   ],
   "source": [
    "v41= v.reshape(4,1)\n",
    "v41"
   ]
  },
  {
   "cell_type": "code",
   "execution_count": 46,
   "id": "602c3524-1d5f-4c01-bbfc-ff72e1ec69d3",
   "metadata": {},
   "outputs": [
    {
     "data": {
      "text/plain": [
       "((4,), (1, 4), (4, 1))"
      ]
     },
     "execution_count": 46,
     "metadata": {},
     "output_type": "execute_result"
    }
   ],
   "source": [
    "v.shape, v14.shape, v41.shape"
   ]
  },
  {
   "cell_type": "code",
   "execution_count": null,
   "id": "03764194-88f0-4f81-bc9d-6a0337ac71b3",
   "metadata": {},
   "outputs": [],
   "source": []
  }
 ],
 "metadata": {
  "kernelspec": {
   "display_name": "Python 3",
   "language": "python",
   "name": "python3"
  },
  "language_info": {
   "codemirror_mode": {
    "name": "ipython",
    "version": 3
   },
   "file_extension": ".py",
   "mimetype": "text/x-python",
   "name": "python",
   "nbconvert_exporter": "python",
   "pygments_lexer": "ipython3",
   "version": "3.8.8"
  }
 },
 "nbformat": 4,
 "nbformat_minor": 5
}
